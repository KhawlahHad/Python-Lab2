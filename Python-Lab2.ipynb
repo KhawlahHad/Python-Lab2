{
 "cells": [
  {
   "cell_type": "code",
   "execution_count": 5,
   "id": "871f94ad-8d34-4488-97fe-592ce28875f2",
   "metadata": {},
   "outputs": [
    {
     "name": "stdout",
     "output_type": "stream",
     "text": [
      "I recommended it, It is good\n"
     ]
    }
   ],
   "source": [
    "movie = \"I Daniel Blake\"\n",
    "\n",
    "rating = 3\n",
    "\n",
    "pop_score =  72.65\n",
    "\n",
    "\n",
    "def myfunc(rating,pop_score):\n",
    "    if rating >= 4 and pop_score >= 80:\n",
    "        print(\"Highly recommended\")\n",
    "        \n",
    "    elif rating >= 3 and pop_score >= 70:\n",
    "        print(\"I recommended it, It is good\")\n",
    "        \n",
    "    elif rating >= 2 and pop_score >= 60:\n",
    "        print(\"You should check it out!\")\n",
    "\n",
    "    else:\n",
    "        print(\"Don't watch it, It is a waste of time\")\n",
    "\n",
    "myfunc(rating,pop_score)\n"
   ]
  }
 ],
 "metadata": {
  "kernelspec": {
   "display_name": "Python 3 (ipykernel)",
   "language": "python",
   "name": "python3"
  },
  "language_info": {
   "codemirror_mode": {
    "name": "ipython",
    "version": 3
   },
   "file_extension": ".py",
   "mimetype": "text/x-python",
   "name": "python",
   "nbconvert_exporter": "python",
   "pygments_lexer": "ipython3",
   "version": "3.10.11"
  }
 },
 "nbformat": 4,
 "nbformat_minor": 5
}
